{
  "nbformat": 4,
  "nbformat_minor": 0,
  "metadata": {
    "colab": {
      "provenance": []
    },
    "kernelspec": {
      "name": "python3",
      "display_name": "Python 3"
    },
    "language_info": {
      "name": "python"
    }
  },
  "cells": [
    {
      "cell_type": "code",
      "execution_count": null,
      "metadata": {
        "id": "cWYJ8gWy6HIB"
      },
      "outputs": [],
      "source": [
        "import numpy as np\n",
        "import pandas as pd\n"
      ]
    },
    {
      "cell_type": "code",
      "source": [
        "#Question 1"
      ],
      "metadata": {
        "id": "fEc7DAXZx02a"
      },
      "execution_count": null,
      "outputs": []
    },
    {
      "cell_type": "code",
      "source": [
        "#CREATING A VECTOR MANUALLY.\n",
        "hor_vec=np.array((1,2,3,4,5))   # entering the array inputs and storing it in a variable hor_vec\n"
      ],
      "metadata": {
        "id": "rUD7C5se7LCD"
      },
      "execution_count": null,
      "outputs": []
    },
    {
      "cell_type": "code",
      "source": [
        "#Displaying the result\n",
        "print(hor_vec)"
      ],
      "metadata": {
        "id": "i_9csAgb7LJl",
        "colab": {
          "base_uri": "https://localhost:8080/"
        },
        "outputId": "6c98817e-82b6-4044-eabb-6c989e3e63d8"
      },
      "execution_count": null,
      "outputs": [
        {
          "output_type": "stream",
          "name": "stdout",
          "text": [
            "[1 2 3 4 5]\n"
          ]
        }
      ]
    },
    {
      "cell_type": "code",
      "source": [
        "#CREATING THE VERTICAL VERTOR MANUALLY.\n",
        "vert_vec=np.array(([1],[2],[3],[4],[5]))\n"
      ],
      "metadata": {
        "id": "_KkZQhLw7LMV"
      },
      "execution_count": null,
      "outputs": []
    },
    {
      "cell_type": "code",
      "source": [
        "#Displaying vertical vector\n",
        "print(vert_vec)"
      ],
      "metadata": {
        "colab": {
          "base_uri": "https://localhost:8080/"
        },
        "id": "evrRUWidyKxj",
        "outputId": "45d0b377-525a-49d9-9f6f-a22e1ceb0f97"
      },
      "execution_count": null,
      "outputs": [
        {
          "output_type": "stream",
          "name": "stdout",
          "text": [
            "[[1]\n",
            " [2]\n",
            " [3]\n",
            " [4]\n",
            " [5]]\n"
          ]
        }
      ]
    },
    {
      "cell_type": "code",
      "source": [
        "#CREATING A ROW vector BY INPUT METHOD\n",
        "\n",
        "\n",
        "elements_row = input(\"Enter the elements of the row vector separated by spaces: \").split()   # Geting input from the user for the vector elements\n",
        "row_vector = np.array([float(element) for element in elements_row])                          # Converting the input elements to float and create a row vector\n",
        "print(\"Row vector:\", row_vector)                                                         # Printing the created row vector\n"
      ],
      "metadata": {
        "id": "pchOS2clnWxC",
        "colab": {
          "base_uri": "https://localhost:8080/"
        },
        "outputId": "f405ecea-36a7-45a8-b5f2-2bfe5d061ae9"
      },
      "execution_count": null,
      "outputs": [
        {
          "output_type": "stream",
          "name": "stdout",
          "text": [
            "Enter the elements of the row vector separated by spaces: 1 2 3 4 5 6 7 8 \n",
            "Row vector: [1. 2. 3. 4. 5. 6. 7. 8.]\n"
          ]
        }
      ]
    },
    {
      "cell_type": "code",
      "source": [
        "#Creating a column vector by input\n",
        "\n",
        "elements_column = input(\"Enter the elements of the column vector separated by spaces: \").split() # Getting input from the user for the vector elements\n",
        "column_vector = np.array([float(element) for element in elements_column]).reshape(-1, 1)         # Converting the input elements to float and create a column vector\n",
        "# Printing the created column vector\n",
        "print(\"Column vector:\")\n",
        "print(column_vector)\n"
      ],
      "metadata": {
        "id": "oI9TSm0mnW7C",
        "colab": {
          "base_uri": "https://localhost:8080/"
        },
        "outputId": "8e5a0b12-29d2-4c84-87f7-078e0b8a76a1"
      },
      "execution_count": null,
      "outputs": [
        {
          "output_type": "stream",
          "name": "stdout",
          "text": [
            "Enter the elements of the column vector separated by spaces: 1 23 4 5 6 \n",
            "Column vector:\n",
            "[[ 1.]\n",
            " [23.]\n",
            " [ 4.]\n",
            " [ 5.]\n",
            " [ 6.]]\n"
          ]
        }
      ]
    },
    {
      "cell_type": "code",
      "source": [],
      "metadata": {
        "id": "OR4A4mLpnW-V"
      },
      "execution_count": null,
      "outputs": []
    },
    {
      "cell_type": "code",
      "source": [
        "#Question 2"
      ],
      "metadata": {
        "id": "kFQRTvXk7LPI"
      },
      "execution_count": null,
      "outputs": []
    },
    {
      "cell_type": "code",
      "source": [
        "#CREATING A 5X5 MATRIX\n",
        "#Manually\n",
        "matrix=np.array([[1,2,3,4,5],\n",
        "                [6,7,8,9,10],\n",
        "                [11,12,13,14,15],\n",
        "                [2,5,6,7,8],\n",
        "                [7,5,3,2,1]])"
      ],
      "metadata": {
        "id": "1T79Qh9P7LRc"
      },
      "execution_count": null,
      "outputs": []
    },
    {
      "cell_type": "code",
      "source": [
        "#Displaying the matrix\n",
        "matrix\n",
        "\n"
      ],
      "metadata": {
        "id": "qgieVDUj7LTy",
        "colab": {
          "base_uri": "https://localhost:8080/"
        },
        "outputId": "6ad0c325-eecb-449b-c602-33d06d450ad5"
      },
      "execution_count": null,
      "outputs": [
        {
          "output_type": "execute_result",
          "data": {
            "text/plain": [
              "array([[ 1,  2,  3,  4,  5],\n",
              "       [ 6,  7,  8,  9, 10],\n",
              "       [11, 12, 13, 14, 15],\n",
              "       [ 2,  5,  6,  7,  8],\n",
              "       [ 7,  5,  3,  2,  1]])"
            ]
          },
          "metadata": {},
          "execution_count": 11
        }
      ]
    },
    {
      "cell_type": "code",
      "source": [
        "matrix_1=matrix    #saving the matrix in a new variable so it can be further used.\n",
        "matrix_2=matrix"
      ],
      "metadata": {
        "id": "JvM1rQ4VLnAK"
      },
      "execution_count": null,
      "outputs": []
    },
    {
      "cell_type": "code",
      "source": [
        "#CREATING THE MATRIX BY INPUT\n",
        "Rows = int(input(\"Give the number of rows:\"))   #taking input\n",
        "Columns = int(input(\"Give the number of columns:\"))\n",
        "a = [[int(input()) for c in range (Columns)] for r in range(Rows)]\n",
        "print(a)\n",
        "\n"
      ],
      "metadata": {
        "id": "7f2I1mZC7LZO",
        "colab": {
          "base_uri": "https://localhost:8080/"
        },
        "outputId": "57330960-0efc-4efd-9008-93f4f74f9bd3"
      },
      "execution_count": null,
      "outputs": [
        {
          "output_type": "stream",
          "name": "stdout",
          "text": [
            "Give the number of rows:5\n",
            "Give the number of columns:5\n",
            "1\n",
            "2\n",
            "3\n",
            "4\n",
            "5\n",
            "6\n",
            "7\n",
            "8\n",
            "9\n",
            "10\n",
            "11\n",
            "12\n",
            "13\n",
            "14\n",
            "15\n",
            "16\n",
            "17\n",
            "18\n",
            "19\n",
            "20\n",
            "21\n",
            "22\n",
            "23\n",
            "24\n",
            "25\n",
            "[[1, 2, 3, 4, 5], [6, 7, 8, 9, 10], [11, 12, 13, 14, 15], [16, 17, 18, 19, 20], [21, 22, 23, 24, 25]]\n"
          ]
        }
      ]
    },
    {
      "cell_type": "code",
      "source": [
        "#Displaying the martix\n",
        "a = np.asarray(a)\n",
        "\n",
        "a"
      ],
      "metadata": {
        "id": "XLSPs6cIPTe9",
        "colab": {
          "base_uri": "https://localhost:8080/"
        },
        "outputId": "b39defa6-6c81-49bd-8991-034c90a24d1f"
      },
      "execution_count": null,
      "outputs": [
        {
          "output_type": "execute_result",
          "data": {
            "text/plain": [
              "array([[ 1,  2,  3,  4,  5],\n",
              "       [ 6,  7,  8,  9, 10],\n",
              "       [11, 12, 13, 14, 15],\n",
              "       [16, 17, 18, 19, 20],\n",
              "       [21, 22, 23, 24, 25]])"
            ]
          },
          "metadata": {},
          "execution_count": 13
        }
      ]
    },
    {
      "cell_type": "code",
      "source": [
        "#Question 3\n",
        "thrd_row = a[2:3,:]    #selecting 3rd row and all columns.\n",
        "thrd_row"
      ],
      "metadata": {
        "id": "bfpJEvZ_PTh-",
        "colab": {
          "base_uri": "https://localhost:8080/"
        },
        "outputId": "004c35d0-2d7d-4ae3-adf1-954f842d9418"
      },
      "execution_count": null,
      "outputs": [
        {
          "output_type": "execute_result",
          "data": {
            "text/plain": [
              "array([[11, 12, 13, 14, 15]])"
            ]
          },
          "metadata": {},
          "execution_count": 31
        }
      ]
    },
    {
      "cell_type": "code",
      "source": [
        "#Question 4\n",
        "forth_clo=a[:,3]  #Selecting all rows and 4th cloumn.\n",
        "forth_clo.reshape(-1, 1)   #Displaying 4th coulumn"
      ],
      "metadata": {
        "id": "FYqfU3rVPTlg",
        "colab": {
          "base_uri": "https://localhost:8080/"
        },
        "outputId": "9ab97ebe-74e3-4db0-d8e0-ab0a6b813471"
      },
      "execution_count": null,
      "outputs": [
        {
          "output_type": "execute_result",
          "data": {
            "text/plain": [
              "array([[ 4],\n",
              "       [ 9],\n",
              "       [14],\n",
              "       [19],\n",
              "       [24]])"
            ]
          },
          "metadata": {},
          "execution_count": 16
        }
      ]
    },
    {
      "cell_type": "code",
      "source": [],
      "metadata": {
        "id": "M9XjmY4B7Lbe"
      },
      "execution_count": null,
      "outputs": []
    },
    {
      "cell_type": "code",
      "source": [
        "#QUESTION 5"
      ],
      "metadata": {
        "id": "ni9lWC5WwyX7"
      },
      "execution_count": null,
      "outputs": []
    },
    {
      "cell_type": "code",
      "source": [
        "def sort_matrix_column_wise(matrix):     #creating a function.\n",
        "    num_rows = len(matrix)\n",
        "    num_cols = len(matrix[0])\n",
        "\n",
        "    for col in range(num_cols):          #applying for loop.\n",
        "        for i in range(num_rows - 1):\n",
        "            for j in range(i + 1, num_rows):\n",
        "                if matrix[j][col] < matrix[i][col]:\n",
        "                    matrix[i][col], matrix[j][col] = matrix[j][col], matrix[i][col]\n"
      ],
      "metadata": {
        "id": "7drcgV4YwyfT"
      },
      "execution_count": null,
      "outputs": []
    },
    {
      "cell_type": "code",
      "source": [
        "sort_matrix_column_wise(matrix)\n",
        "\n",
        "for row in matrix:\n",
        "    print(row)"
      ],
      "metadata": {
        "id": "a6J2j_bP01WO",
        "colab": {
          "base_uri": "https://localhost:8080/"
        },
        "outputId": "0102fd76-0158-4195-a62d-c1bf45c4fa80"
      },
      "execution_count": null,
      "outputs": [
        {
          "output_type": "stream",
          "name": "stdout",
          "text": [
            "[1 1 2 2 3]\n",
            "[2 3 4 5 5]\n",
            "[5 6 6 7 8]\n",
            "[ 7  7  8  9 10]\n",
            "[11 12 13 14 15]\n"
          ]
        }
      ]
    },
    {
      "cell_type": "code",
      "source": [
        "#Sort element row wise\n",
        "def sort_matrix_row_wise(matrix_1):\n",
        "    num_rows = len(matrix_1)\n",
        "    for i in range(num_rows):\n",
        "        matrix_1[i].sort()"
      ],
      "metadata": {
        "id": "50XfEBpi1QWn"
      },
      "execution_count": null,
      "outputs": []
    },
    {
      "cell_type": "code",
      "source": [
        "sort_matrix_row_wise(matrix)\n",
        "for row in matrix:\n",
        "    print(row)"
      ],
      "metadata": {
        "id": "9hk52G5M1QeF",
        "colab": {
          "base_uri": "https://localhost:8080/"
        },
        "outputId": "72b66087-b461-49c7-d0ff-db6811a5e5c3"
      },
      "execution_count": null,
      "outputs": [
        {
          "output_type": "stream",
          "name": "stdout",
          "text": [
            "[1 1 2 2 3]\n",
            "[2 3 4 5 5]\n",
            "[5 6 6 7 8]\n",
            "[ 7  7  8  9 10]\n",
            "[11 12 13 14 15]\n"
          ]
        }
      ]
    },
    {
      "cell_type": "code",
      "source": [],
      "metadata": {
        "id": "gOojl7Fj1NmL"
      },
      "execution_count": null,
      "outputs": []
    },
    {
      "cell_type": "code",
      "source": [],
      "metadata": {
        "id": "YbZvUYfm1Nwl"
      },
      "execution_count": null,
      "outputs": []
    },
    {
      "cell_type": "code",
      "source": [
        "#Question 6\n",
        "\n",
        "\n",
        "b = np.empty_like(matrix)  # Initialize an empty matrix to store the modified values\n",
        "\n",
        "# Applying the for loop to modify the matrix elements\n",
        "for i in range(matrix.shape[0]):\n",
        "    for j in range(matrix.shape[1]):\n",
        "        if matrix[i, j] > 2:\n",
        "            b[i, j] = matrix[i, j] * 10\n",
        "        else:\n",
        "            b[i, j] = matrix[i, j]\n",
        "\n",
        "print(\"Original matrix:\")\n",
        "print(matrix)\n",
        "\n",
        "print(\"\\nModified matrix,b:\")\n",
        "print(b)\n",
        "\n",
        "\n",
        "\n",
        "\n",
        "\n",
        "\n"
      ],
      "metadata": {
        "id": "PMOXvRbH1Qgm",
        "colab": {
          "base_uri": "https://localhost:8080/"
        },
        "outputId": "e85b11bd-11c7-4479-df02-dff91499700f"
      },
      "execution_count": null,
      "outputs": [
        {
          "output_type": "stream",
          "name": "stdout",
          "text": [
            "Original matrix:\n",
            "[[ 1  1  2  2  3]\n",
            " [ 2  3  4  5  5]\n",
            " [ 5  6  6  7  8]\n",
            " [ 7  7  8  9 10]\n",
            " [11 12 13 14 15]]\n",
            "\n",
            "Modified matrix,b:\n",
            "[[  1   1   2   2  30]\n",
            " [  2  30  40  50  50]\n",
            " [ 50  60  60  70  80]\n",
            " [ 70  70  80  90 100]\n",
            " [110 120 130 140 150]]\n"
          ]
        }
      ]
    },
    {
      "cell_type": "code",
      "source": [
        "#Question 7"
      ],
      "metadata": {
        "id": "irSKo6iw4rqv"
      },
      "execution_count": null,
      "outputs": []
    },
    {
      "cell_type": "code",
      "source": [
        "matrix_sum = matrix + b\n",
        "matrix_sum"
      ],
      "metadata": {
        "colab": {
          "base_uri": "https://localhost:8080/"
        },
        "id": "uYYdoAFU4MlX",
        "outputId": "e4625623-5b63-407a-bb9a-4de71624f910"
      },
      "execution_count": null,
      "outputs": [
        {
          "output_type": "execute_result",
          "data": {
            "text/plain": [
              "array([[  2,   2,   4,   4,  33],\n",
              "       [  4,  33,  44,  55,  55],\n",
              "       [ 55,  66,  66,  77,  88],\n",
              "       [ 77,  77,  88,  99, 110],\n",
              "       [121, 132, 143, 154, 165]])"
            ]
          },
          "metadata": {},
          "execution_count": 53
        }
      ]
    },
    {
      "cell_type": "code",
      "source": [
        "#Question 8"
      ],
      "metadata": {
        "id": "iaD_txLz4wnL"
      },
      "execution_count": null,
      "outputs": []
    },
    {
      "cell_type": "code",
      "source": [
        "matrix_sub = b - matrix\n",
        "matrix_sub"
      ],
      "metadata": {
        "colab": {
          "base_uri": "https://localhost:8080/"
        },
        "id": "Fh-YLL8E4Mv-",
        "outputId": "b5540cf0-be44-430f-c4b0-78e268d2b81d"
      },
      "execution_count": null,
      "outputs": [
        {
          "output_type": "execute_result",
          "data": {
            "text/plain": [
              "array([[  0,   0,   0,   0,  27],\n",
              "       [  0,  27,  36,  45,  45],\n",
              "       [ 45,  54,  54,  63,  72],\n",
              "       [ 63,  63,  72,  81,  90],\n",
              "       [ 99, 108, 117, 126, 135]])"
            ]
          },
          "metadata": {},
          "execution_count": 55
        }
      ]
    },
    {
      "cell_type": "code",
      "source": [
        "#Question 9"
      ],
      "metadata": {
        "id": "C_CsS7Dj55zB"
      },
      "execution_count": null,
      "outputs": []
    },
    {
      "cell_type": "code",
      "source": [
        "element_wise_result = matrix * b\n",
        "matrix_multiplication_result = np.dot(matrix,b)\n",
        "element_wise_result\n"
      ],
      "metadata": {
        "colab": {
          "base_uri": "https://localhost:8080/"
        },
        "id": "x_X_0VrN4Mye",
        "outputId": "3f4bd2f6-dc37-480f-c34e-e42c4f9f96ca"
      },
      "execution_count": null,
      "outputs": [
        {
          "output_type": "execute_result",
          "data": {
            "text/plain": [
              "array([[   1,    1,    4,    4,   90],\n",
              "       [   4,   90,  160,  250,  250],\n",
              "       [ 250,  360,  360,  490,  640],\n",
              "       [ 490,  490,  640,  810, 1000],\n",
              "       [1210, 1440, 1690, 1960, 2250]])"
            ]
          },
          "metadata": {},
          "execution_count": 60
        }
      ]
    },
    {
      "cell_type": "code",
      "source": [
        "matrix_multiplication_result"
      ],
      "metadata": {
        "colab": {
          "base_uri": "https://localhost:8080/"
        },
        "id": "g5Q54N4A4M1O",
        "outputId": "50aa21f6-c571-4532-ec90-fb10e2f2770c"
      },
      "execution_count": null,
      "outputs": [
        {
          "output_type": "execute_result",
          "data": {
            "text/plain": [
              "array([[ 573,  651,  712,  792,  890],\n",
              "       [1108, 1282, 1414, 1584, 1780],\n",
              "       [1687, 1995, 2210, 2480, 2830],\n",
              "       [2151, 2527, 2794, 3134, 3600],\n",
              "       [3315, 3931, 4352, 4892, 5620]])"
            ]
          },
          "metadata": {},
          "execution_count": 61
        }
      ]
    },
    {
      "cell_type": "code",
      "source": [
        "\n",
        "#Question 10"
      ],
      "metadata": {
        "id": "f6b3sCMJ4M4C"
      },
      "execution_count": null,
      "outputs": []
    },
    {
      "cell_type": "code",
      "source": [
        "matrix_a_divided = matrix / 18\n",
        "matrix_b_divided = b / 18\n",
        "\n",
        "\n"
      ],
      "metadata": {
        "id": "m23440-y4M6g"
      },
      "execution_count": null,
      "outputs": []
    },
    {
      "cell_type": "code",
      "source": [
        "matrix_a_divided"
      ],
      "metadata": {
        "colab": {
          "base_uri": "https://localhost:8080/"
        },
        "id": "5Y4GK04z7tG3",
        "outputId": "9a68b087-86b9-446a-eced-5c48d8178629"
      },
      "execution_count": null,
      "outputs": [
        {
          "output_type": "execute_result",
          "data": {
            "text/plain": [
              "array([[0.05555556, 0.05555556, 0.11111111, 0.11111111, 0.16666667],\n",
              "       [0.11111111, 0.16666667, 0.22222222, 0.27777778, 0.27777778],\n",
              "       [0.27777778, 0.33333333, 0.33333333, 0.38888889, 0.44444444],\n",
              "       [0.38888889, 0.38888889, 0.44444444, 0.5       , 0.55555556],\n",
              "       [0.61111111, 0.66666667, 0.72222222, 0.77777778, 0.83333333]])"
            ]
          },
          "metadata": {},
          "execution_count": 64
        }
      ]
    },
    {
      "cell_type": "code",
      "source": [
        "matrix_b_divided"
      ],
      "metadata": {
        "colab": {
          "base_uri": "https://localhost:8080/"
        },
        "id": "5IlJJ3S27tJh",
        "outputId": "3ba628f5-68d1-4af6-8a75-3063ace1d5ad"
      },
      "execution_count": null,
      "outputs": [
        {
          "output_type": "execute_result",
          "data": {
            "text/plain": [
              "array([[0.05555556, 0.05555556, 0.11111111, 0.11111111, 1.66666667],\n",
              "       [0.11111111, 1.66666667, 2.22222222, 2.77777778, 2.77777778],\n",
              "       [2.77777778, 3.33333333, 3.33333333, 3.88888889, 4.44444444],\n",
              "       [3.88888889, 3.88888889, 4.44444444, 5.        , 5.55555556],\n",
              "       [6.11111111, 6.66666667, 7.22222222, 7.77777778, 8.33333333]])"
            ]
          },
          "metadata": {},
          "execution_count": 65
        }
      ]
    },
    {
      "cell_type": "code",
      "source": [
        "\n",
        "#Question 11\n",
        "\n",
        "matrix_a_inverse = np.linalg.inv(matrix)\n",
        "matrix_b_inverse = np.linalg.inv(b)\n",
        "matrix_a_rank = np.linalg.matrix_rank(matrix)\n",
        "matrix_b_rank = np.linalg.matrix_rank(b)\n",
        "matrix_a_condition_number = np.linalg.cond(matrix)\n",
        "matrix_b_condition_number = np.linalg.cond(b)\n",
        "matrix_a_svd = np.linalg.svd(matrix)\n",
        "matrix_b_svd = np.linalg.svd(b)\n",
        "matrix_a_norm = np.linalg.norm(matrix)\n",
        "matrix_b_norm = np.linalg.norm(b)\n",
        "\n",
        "print(\"Matrix a Inverse:\\n\")\n",
        "print(matrix_a_inverse)\n",
        "print(\"Matrix B Inverse:\\n\")\n",
        "print(matrix_b_inverse)\n",
        "print(\"Matrix A Rank:\\n\", matrix_a_rank)\n",
        "print(\"Matrix B Rank:\\n\", matrix_b_rank)\n",
        "print(\"Matrix A Condition Number:\\n\", matrix_a_condition_number)\n",
        "print(\"Matrix B Condition Number:\\n\", matrix_b_condition_number)\n",
        "print(\"Matrix A Singular Value Decomposition:\\n\",matrix_a_svd)\n",
        "print(\"Matrix B Singular Value Decomposition:\\n\",matrix_b_svd)\n",
        "print(\"Matrix A Norm:\\n\", matrix_a_norm)\n",
        "print(\"Matrix B Norm:\\n\", matrix_b_norm)"
      ],
      "metadata": {
        "id": "aN-dBXSk1QkG",
        "colab": {
          "base_uri": "https://localhost:8080/"
        },
        "outputId": "8ab19641-94e5-47d7-bab8-0c5939f2e869"
      },
      "execution_count": null,
      "outputs": [
        {
          "output_type": "stream",
          "name": "stdout",
          "text": [
            "Matrix a Inverse:\n",
            "\n",
            "[[-3.57142857e-01 -3.57142857e-01 -3.57142857e-01  1.00000000e+00\n",
            "  -2.85714286e-01]\n",
            " [-1.42857143e-01 -1.42857143e-01  8.57142857e-01 -1.00000000e+00\n",
            "   2.85714286e-01]\n",
            " [ 1.00000000e+00  2.22044605e-16 -1.00000000e+00 -1.00000000e+00\n",
            "   1.00000000e+00]\n",
            " [-1.21428571e+00  7.85714286e-01 -2.14285714e-01  1.00000000e+00\n",
            "  -5.71428571e-01]\n",
            " [ 6.42857143e-01 -3.57142857e-01  6.42857143e-01 -1.14194368e-15\n",
            "  -2.85714286e-01]]\n",
            "Matrix B Inverse:\n",
            "\n",
            "[[-0.00982318 -0.02750491 -0.00098232  0.05049116 -0.02200393]\n",
            " [-0.00392927 -0.01100196  0.09960707 -0.11980354  0.03119843]\n",
            " [ 0.04518664  0.02652259 -0.19548134 -0.05225933  0.12121807]\n",
            " [-0.06876228  0.00746562  0.09312377  0.11343811 -0.1140275 ]\n",
            " [ 0.03536346 -0.00098232  0.00353635 -0.00176817 -0.00078585]]\n",
            "Matrix A Rank:\n",
            " 5\n",
            "Matrix B Rank:\n",
            " 5\n",
            "Matrix A Condition Number:\n",
            " 105.60968977307618\n",
            "Matrix B Condition Number:\n",
            " 116.61344658721416\n",
            "Matrix A Singular Value Decomposition:\n",
            " (array([[-0.10842565, -0.53107617,  0.60928488, -0.09970029,  0.57011733],\n",
            "       [-0.22598624, -0.75367816, -0.56874306, -0.17163906, -0.16724476],\n",
            "       [-0.37371588, -0.1041421 ,  0.01535424,  0.92125357, -0.02338753],\n",
            "       [-0.47783319, -0.02867937,  0.49750566, -0.22284393, -0.68824533],\n",
            "       [-0.75444415,  0.37183228, -0.23990754, -0.24946409,  0.41565227]]), array([38.74399119,  1.91930309,  0.84738723,  0.60561638,  0.36686019]), array([[-0.36322266, -0.39817379, -0.43861075, -0.48589497, -0.5301449 ],\n",
            "       [ 0.6930935 ,  0.43988285, -0.05071263, -0.31886588, -0.47103849],\n",
            "       [ 0.46274783, -0.47341965, -0.1215853 , -0.47064732,  0.57047909],\n",
            "       [-0.23236331,  0.59349021, -0.63442798, -0.17653665,  0.40014074],\n",
            "       [-0.34577802,  0.26758909,  0.6227094 , -0.63996604,  0.10728519]]))\n",
            "Matrix B Singular Value Decomposition:\n",
            " (array([[-0.04834791, -0.42421426,  0.86321073,  0.0615007 ,  0.26227777],\n",
            "       [-0.21144468, -0.86234892, -0.4501727 , -0.06976465,  0.06421003],\n",
            "       [-0.3769538 , -0.06815596,  0.11613596,  0.590831  , -0.70049394],\n",
            "       [-0.48180027,  0.06342998,  0.17174809, -0.77282126, -0.37026347],\n",
            "       [-0.76074172,  0.26024605, -0.09605623,  0.21217113,  0.54708376]]), array([384.181384  ,  32.89145615,  22.26682393,   5.49101215,\n",
            "         3.29448614]), array([[-0.35589058, -0.40091464, -0.43888685, -0.48654508, -0.53222324],\n",
            "       [ 0.83640123,  0.16069783, -0.01597246, -0.20046683, -0.48390818],\n",
            "       [ 0.3245117 , -0.23255195, -0.3619641 , -0.47798643,  0.69363009],\n",
            "       [-0.2358658 ,  0.870781  , -0.26610359, -0.3381919 ,  0.03037923],\n",
            "       [-0.11328885, -0.033222  ,  0.77800648, -0.61663778,  0.02292813]]))\n",
            "Matrix A Norm:\n",
            " 38.80721582386451\n",
            "Matrix B Norm:\n",
            " 386.2822802045157\n"
          ]
        }
      ]
    },
    {
      "cell_type": "code",
      "source": [
        "\n"
      ],
      "metadata": {
        "id": "CC5Ree_gSnPG"
      },
      "execution_count": null,
      "outputs": []
    },
    {
      "cell_type": "code",
      "source": [
        "#QUESTION 12.\n",
        "column_vector_norm = np.linalg.norm(column_vector)\n",
        "column_vector_inner_product = np.inner(column_vector.flatten(), column_vector.flatten())\n",
        "column_vector_outer_product = np.outer(column_vector, column_vector)"
      ],
      "metadata": {
        "id": "3_ya4KaZSshZ"
      },
      "execution_count": null,
      "outputs": []
    },
    {
      "cell_type": "code",
      "source": [
        "column_vector_inner_product\n"
      ],
      "metadata": {
        "id": "fMQbUZsLTXlI",
        "colab": {
          "base_uri": "https://localhost:8080/"
        },
        "outputId": "92d851be-8c15-4318-da5b-baae902571ff"
      },
      "execution_count": null,
      "outputs": [
        {
          "output_type": "execute_result",
          "data": {
            "text/plain": [
              "91.0"
            ]
          },
          "metadata": {},
          "execution_count": 76
        }
      ]
    },
    {
      "cell_type": "code",
      "source": [
        "column_vector_outer_product"
      ],
      "metadata": {
        "id": "Y2XAUhvL1Qo2",
        "colab": {
          "base_uri": "https://localhost:8080/"
        },
        "outputId": "01fb323e-e93f-4630-fe5a-7789ab4ce145"
      },
      "execution_count": null,
      "outputs": [
        {
          "output_type": "execute_result",
          "data": {
            "text/plain": [
              "array([[ 1.,  2.,  3.,  4.,  5.,  6.],\n",
              "       [ 2.,  4.,  6.,  8., 10., 12.],\n",
              "       [ 3.,  6.,  9., 12., 15., 18.],\n",
              "       [ 4.,  8., 12., 16., 20., 24.],\n",
              "       [ 5., 10., 15., 20., 25., 30.],\n",
              "       [ 6., 12., 18., 24., 30., 36.]])"
            ]
          },
          "metadata": {},
          "execution_count": 77
        }
      ]
    },
    {
      "cell_type": "code",
      "source": [
        "#Question 13\n",
        "def derivative(f, a, method='central', h=0.01):\n",
        "    if method == 'forward':\n",
        "        return (f(a + h) - f(a)) / h\n",
        "    elif method == 'backward':\n",
        "        return (f(a) - f(a - h)) / h\n",
        "    elif method == 'central':\n",
        "        return (f(a + h) - f(a - h)) / (2 * h)\n",
        "    else:\n",
        "        raise ValueError(\"Invalid method. Choose 'forward', 'backward', or 'central'.\")"
      ],
      "metadata": {
        "id": "nfs-Ayun1Qro"
      },
      "execution_count": null,
      "outputs": []
    },
    {
      "cell_type": "code",
      "source": [
        "x = 1\n",
        "\n",
        "derivative_f1 = derivative(np.exp, x)\n",
        "derivative_f2 = derivative(np.cos, x)\n",
        "\n",
        "print(\"Derivative of exp(x) at x = 1:\", derivative_f1)\n",
        "print(\"Derivative of cos(x) at x = 1:\", derivative_f2)"
      ],
      "metadata": {
        "colab": {
          "base_uri": "https://localhost:8080/"
        },
        "id": "8EjF8ofzHkQ2",
        "outputId": "23a10a38-faf9-4d8a-cb27-f2e284720afa"
      },
      "execution_count": null,
      "outputs": [
        {
          "output_type": "stream",
          "name": "stdout",
          "text": [
            "Derivative of exp(x) at x = 1: 2.718327133382714\n",
            "Derivative of cos(x) at x = 1: -0.8414569603616029\n"
          ]
        }
      ]
    },
    {
      "cell_type": "code",
      "source": [
        "#Question 14\n",
        "excel_file_path = '/content/AWS.xlsx'\n",
        "df = pd.read_excel(excel_file_path) # Reading the Excel file into a DataFrame\n",
        "print(df.head()) # Displaying the first few rows of the DataFrame"
      ],
      "metadata": {
        "id": "aI2K0ROQOtJ7",
        "colab": {
          "base_uri": "https://localhost:8080/"
        },
        "outputId": "a74e921d-af1d-436c-bfea-d22d86cd6f26"
      },
      "execution_count": null,
      "outputs": [
        {
          "output_type": "stream",
          "name": "stdout",
          "text": [
            "                  created_at  entry_id  Soil Temperature  Soil Moisture  \\\n",
            "0  2022-12-14T14:19:11+05:30     10830             21.06            817   \n",
            "1  2022-12-14T14:20:13+05:30     10831             21.06            817   \n",
            "2  2022-12-14T14:21:15+05:30     10832             21.06            817   \n",
            "3  2022-12-14T14:22:18+05:30     10833             21.06            817   \n",
            "4  2022-12-14T14:23:20+05:30     10834             21.06            817   \n",
            "\n",
            "   Wind Speed  Rainfall  Temperature  Humidity  Pressure  Battery Voltage  \n",
            "0         0.0      0.25        25.38     45.09      1.94             4.14  \n",
            "1         0.0      0.25        25.27     46.52      1.94             4.14  \n",
            "2         0.0      0.25        25.34     45.79      1.94             4.14  \n",
            "3         0.0      0.25        25.13     44.91      1.94             4.15  \n",
            "4         0.0      0.25        24.95     45.12      1.94             4.15  \n"
          ]
        }
      ]
    },
    {
      "cell_type": "code",
      "source": [],
      "metadata": {
        "id": "-OJnGi74OtT8"
      },
      "execution_count": null,
      "outputs": []
    },
    {
      "cell_type": "code",
      "source": [],
      "metadata": {
        "id": "l8pPYfxBOtb0"
      },
      "execution_count": null,
      "outputs": []
    }
  ]
}